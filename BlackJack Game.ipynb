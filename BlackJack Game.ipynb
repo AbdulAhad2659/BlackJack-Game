{
 "cells": [
  {
   "cell_type": "code",
   "execution_count": 7,
   "id": "0af3d1e8",
   "metadata": {},
   "outputs": [
    {
     "name": "stdout",
     "output_type": "stream",
     "text": [
      "[['spades', 'A'], ['spades', '2'], ['spades', '3'], ['spades', '4'], ['spades', '5'], ['spades', '6'], ['spades', '7'], ['spades', '8'], ['spades', '9'], ['spades', '10'], ['spades', 'J'], ['spades', 'Q'], ['spades', 'K'], ['clubs', 'A'], ['clubs', '2'], ['clubs', '3'], ['clubs', '4'], ['clubs', '5'], ['clubs', '6'], ['clubs', '7'], ['clubs', '8'], ['clubs', '9'], ['clubs', '10'], ['clubs', 'J'], ['clubs', 'Q'], ['clubs', 'K'], ['hearts', 'A'], ['hearts', '2'], ['hearts', '3'], ['hearts', '4'], ['hearts', '5'], ['hearts', '6'], ['hearts', '7'], ['hearts', '8'], ['hearts', '9'], ['hearts', '10'], ['hearts', 'J'], ['hearts', 'Q'], ['hearts', 'K'], ['diamonds', 'A'], ['diamonds', '2'], ['diamonds', '3'], ['diamonds', '4'], ['diamonds', '5'], ['diamonds', '6'], ['diamonds', '7'], ['diamonds', '8'], ['diamonds', '9'], ['diamonds', '10'], ['diamonds', 'J'], ['diamonds', 'Q'], ['diamonds', 'K']]\n"
     ]
    }
   ],
   "source": [
    "#This is a blackjack game which is developed in python programming language.\n",
    "\n",
    "suits = [\"spades\", \"clubs\", \"hearts\", \"diamonds\"]\n",
    "ranks = [\"A\", \"2\", \"3\", \"4\", \"5\", \"6\", \"7\", \"8\", \"9\", \"10\", \"J\", \"Q\", \"K\"]\n",
    "cards = []\n",
    "\n",
    "for suit in suits:\n",
    "    for rank in ranks:\n",
    "        cards.append([suit, rank])\n",
    "\n",
    "print(cards)"
   ]
  },
  {
   "cell_type": "code",
   "execution_count": null,
   "id": "993e82b3",
   "metadata": {},
   "outputs": [],
   "source": []
  }
 ],
 "metadata": {
  "kernelspec": {
   "display_name": "Python 3 (ipykernel)",
   "language": "python",
   "name": "python3"
  },
  "language_info": {
   "codemirror_mode": {
    "name": "ipython",
    "version": 3
   },
   "file_extension": ".py",
   "mimetype": "text/x-python",
   "name": "python",
   "nbconvert_exporter": "python",
   "pygments_lexer": "ipython3",
   "version": "3.9.7"
  }
 },
 "nbformat": 4,
 "nbformat_minor": 5
}
