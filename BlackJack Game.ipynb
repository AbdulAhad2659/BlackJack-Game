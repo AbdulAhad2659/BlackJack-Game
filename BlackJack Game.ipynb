{
 "cells": [
  {
   "cell_type": "code",
   "execution_count": 32,
   "id": "0af3d1e8",
   "metadata": {},
   "outputs": [
    {
     "name": "stdout",
     "output_type": "stream",
     "text": [
      "8\n"
     ]
    }
   ],
   "source": [
    "#This is a blackjack game which is developed in python programming language.\n",
    "\n",
    "import random\n",
    "\n",
    "class deck:\n",
    "    suits = [\"spades\", \"clubs\", \"hearts\", \"diamonds\"]\n",
    "    ranks = [\n",
    "            {\"rank\": \"A\", \"value\": 11},\n",
    "            {\"rank\": \"1\", \"value\": 1},\n",
    "            {\"rank\": \"2\", \"value\": 2},\n",
    "            {\"rank\": \"3\", \"value\": 3},\n",
    "            {\"rank\": \"4\", \"value\": 4},\n",
    "            {\"rank\": \"5\", \"value\": 5},\n",
    "            {\"rank\": \"6\", \"value\": 6},\n",
    "            {\"rank\": \"7\", \"value\": 7},\n",
    "            {\"rank\": \"8\", \"value\": 8},\n",
    "            {\"rank\": \"9\", \"value\": 9},\n",
    "            {\"rank\": \"10\", \"value\": 10},\n",
    "            {\"rank\": \"J\", \"value\": 10},\n",
    "            {\"rank\": \"Q\", \"value\": 10},\n",
    "            {\"rank\": \"K\", \"value\": 10},\n",
    "        ]\n",
    "\n",
    "    cards = []\n",
    "\n",
    "    for suit in suits:\n",
    "        for rank in ranks:\n",
    "            cards.append([suit, rank])\n",
    "\n",
    "    def shuffle():\n",
    "        random.shuffle(cards)\n",
    "\n",
    "    def deal(number):\n",
    "        cards_dealt = []\n",
    "\n",
    "        for i in range(number):\n",
    "            card = cards.pop()\n",
    "            cards_dealt.append(card)\n",
    "\n",
    "        return cards_dealt        "
   ]
  },
  {
   "cell_type": "code",
   "execution_count": null,
   "id": "9b64ea2d",
   "metadata": {},
   "outputs": [],
   "source": []
  }
 ],
 "metadata": {
  "kernelspec": {
   "display_name": "Python 3 (ipykernel)",
   "language": "python",
   "name": "python3"
  },
  "language_info": {
   "codemirror_mode": {
    "name": "ipython",
    "version": 3
   },
   "file_extension": ".py",
   "mimetype": "text/x-python",
   "name": "python",
   "nbconvert_exporter": "python",
   "pygments_lexer": "ipython3",
   "version": "3.9.7"
  }
 },
 "nbformat": 4,
 "nbformat_minor": 5
}
