{
 "cells": [
  {
   "cell_type": "code",
   "execution_count": 21,
   "id": "0af3d1e8",
   "metadata": {},
   "outputs": [
    {
     "name": "stdout",
     "output_type": "stream",
     "text": [
      "10\n"
     ]
    }
   ],
   "source": [
    "#This is a blackjack game which is developed in python programming language.\n",
    "\n",
    "import random\n",
    "\n",
    "suits = [\"spades\", \"clubs\", \"hearts\", \"diamonds\"]\n",
    "ranks = [\"A\", \"2\", \"3\", \"4\", \"5\", \"6\", \"7\", \"8\", \"9\", \"10\", \"J\", \"Q\", \"K\"]\n",
    "cards = []\n",
    "\n",
    "for suit in suits:\n",
    "    for rank in ranks:\n",
    "        cards.append([suit, rank])\n",
    "\n",
    "def shuffle():\n",
    "    random.shuffle(cards)\n",
    "\n",
    "def deal(number):\n",
    "    cards_dealt = []\n",
    "    for i in range(number):\n",
    "        card = cards.pop()\n",
    "        cards_dealt.append(card)\n",
    "    return cards_dealt\n",
    "    \n",
    "shuffle()\n",
    "cards_dealt = deal(2)\n",
    "card = cards_dealt[0]\n",
    "rank = card[1]\n",
    "\n",
    "if rank == \"A\":\n",
    "    value = 11\n",
    "\n",
    "elif rank == \"J\" or rank == \"Q\" or rank == \"K\":\n",
    "    value = 10\n",
    "\n",
    "else:\n",
    "    value = int(rank)\n",
    "    \n",
    "print(value)"
   ]
  },
  {
   "cell_type": "code",
   "execution_count": null,
   "id": "c95507a3",
   "metadata": {},
   "outputs": [],
   "source": []
  }
 ],
 "metadata": {
  "kernelspec": {
   "display_name": "Python 3 (ipykernel)",
   "language": "python",
   "name": "python3"
  },
  "language_info": {
   "codemirror_mode": {
    "name": "ipython",
    "version": 3
   },
   "file_extension": ".py",
   "mimetype": "text/x-python",
   "name": "python",
   "nbconvert_exporter": "python",
   "pygments_lexer": "ipython3",
   "version": "3.9.7"
  }
 },
 "nbformat": 4,
 "nbformat_minor": 5
}
