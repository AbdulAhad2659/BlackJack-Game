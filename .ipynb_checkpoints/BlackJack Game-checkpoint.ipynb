{
 "cells": [
  {
   "cell_type": "code",
   "execution_count": 15,
   "id": "0af3d1e8",
   "metadata": {},
   "outputs": [
    {
     "name": "stdout",
     "output_type": "stream",
     "text": [
      "['spades', 'Q']\n"
     ]
    }
   ],
   "source": [
    "#This is a blackjack game which is developed in python programming language.\n",
    "\n",
    "import random\n",
    "\n",
    "suits = [\"spades\", \"clubs\", \"hearts\", \"diamonds\"]\n",
    "ranks = [\"A\", \"2\", \"3\", \"4\", \"5\", \"6\", \"7\", \"8\", \"9\", \"10\", \"J\", \"Q\", \"K\"]\n",
    "cards = []\n",
    "\n",
    "for suit in suits:\n",
    "    for rank in ranks:\n",
    "        cards.append([suit, rank])\n",
    "\n",
    "def shuffle():\n",
    "    random.shuffle(cards)\n",
    "\n",
    "def deal():\n",
    "    card = cards.pop()\n",
    "    return card\n",
    "    \n",
    "shuffle()\n",
    "card = deal()\n",
    "print(card)"
   ]
  },
  {
   "cell_type": "code",
   "execution_count": null,
   "id": "a96f7251",
   "metadata": {},
   "outputs": [],
   "source": []
  }
 ],
 "metadata": {
  "kernelspec": {
   "display_name": "Python 3 (ipykernel)",
   "language": "python",
   "name": "python3"
  },
  "language_info": {
   "codemirror_mode": {
    "name": "ipython",
    "version": 3
   },
   "file_extension": ".py",
   "mimetype": "text/x-python",
   "name": "python",
   "nbconvert_exporter": "python",
   "pygments_lexer": "ipython3",
   "version": "3.9.7"
  }
 },
 "nbformat": 4,
 "nbformat_minor": 5
}
